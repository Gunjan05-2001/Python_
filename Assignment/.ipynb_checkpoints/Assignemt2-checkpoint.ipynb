{
 "cells": [
  {
   "cell_type": "markdown",
   "id": "0a218d1c-aa0d-4569-b5e2-96e8177ab213",
   "metadata": {},
   "source": [
    "# ASSIGNMENT - 2"
   ]
  },
  {
   "cell_type": "markdown",
   "id": "ed71affc-9aed-47ac-ae3d-cd90c3497131",
   "metadata": {},
   "source": [
    "**Question 1: BASIC FUNCTION IMPLEMENTATION\n",
    "Write a function greet that takes two arguments: name (a string) and greeting (a string with a default value of \"Hello\"). The function should return a greeting message.**"
   ]
  },
  {
   "cell_type": "code",
   "execution_count": 1,
   "id": "a35ac1e8-c6f5-489d-931b-21ef53aaf35d",
   "metadata": {},
   "outputs": [
    {
     "name": "stdout",
     "output_type": "stream",
     "text": [
      "Hello Alice\n",
      "Good morning Bob\n"
     ]
    }
   ],
   "source": [
    "#creating a function as greet\n",
    "def greet(name,greeting = \"Hello\"): #variable greeting have a default value \"Hello\"\n",
    "    print(f\"{greeting} {name}\") #using string formatting\n",
    "    \n",
    "greet(\"Alice\")\n",
    "greet(\"Bob\",\"Good morning\")"
   ]
  },
  {
   "cell_type": "markdown",
   "id": "b7781604-c65e-483c-9268-796605db5197",
   "metadata": {},
   "source": [
    "**Question 2: NAMED ARGUEMENT\n",
    "Create a function create_profile that takes arguments for name, age, and city as named arguments. The function should return a string like \"Name: Alice, Age: 25, City: New York\". Ensure that the age argument has a default value of 18.**"
   ]
  },
  {
   "cell_type": "code",
   "execution_count": 2,
   "id": "f9c22276-2d6c-4bbf-b6cf-65957af10d90",
   "metadata": {},
   "outputs": [
    {
     "name": "stdout",
     "output_type": "stream",
     "text": [
      "Name: John, Age: 18, City: Chicago\n",
      "Name: Emma, Age: 22, City: Los Angeles\n"
     ]
    }
   ],
   "source": [
    "#creating a function name as create_profile\n",
    "def create_profile(name , city, age = 18): #age variable stores a default value 18\n",
    "    print(f\"Name: {name}, Age: {age}, City: {city}\" )\n",
    "    \n",
    "create_profile(name =\"John\", city = \"Chicago\")\n",
    "create_profile(name=\"Emma\", age=22, city=\"Los Angeles\")"
   ]
  },
  {
   "cell_type": "markdown",
   "id": "3ccdc54b-0c4a-4b35-92e5-c35bf1008134",
   "metadata": {},
   "source": [
    "***Question 3: Using args and kwargs\n",
    "Write a function sum_numbers that takes any number of positional arguments (args) and keyword arguments (*kwargs). It should:\n",
    "Return the sum of all *args if they are numbers.\n",
    "Return a dictionary of all keyword arguments.*****"
   ]
  },
  {
   "cell_type": "code",
   "execution_count": 3,
   "id": "97d6ca0c-c792-4350-8485-aac3a9f8040f",
   "metadata": {},
   "outputs": [
    {
     "name": "stdout",
     "output_type": "stream",
     "text": [
      "6\n",
      "(3, {'x': 4, 'y': 5})\n"
     ]
    }
   ],
   "source": [
    "#creating a function \"sum_numbers\"\n",
    "def sum_numbers(*args, **kwargs):\n",
    "    # Filter and sum positional arguments that are numbers\n",
    "    totalSum = sum(arg for arg in args if isinstance(arg, (int, float)))\n",
    "    \n",
    "    # Return only the sum if no keyword arguments are passed\n",
    "    if not kwargs:\n",
    "        return totalSum\n",
    "    \n",
    "    # Return the sum and the dictionary of keyword arguments if any\n",
    "    return totalSum, kwargs\n",
    "\n",
    "print(sum_numbers(1, 2, 3))             \n",
    "print(sum_numbers(1, 2, x=4, y=5))"
   ]
  },
  {
   "cell_type": "markdown",
   "id": "6fc578ae-5c2c-4997-8a06-6945b0ca0e69",
   "metadata": {},
   "source": [
    "**Question 4: LAMBDAS AND MAP:\n",
    "Write a function that uses map and a lambda to return a list where each element is squared.**"
   ]
  },
  {
   "cell_type": "code",
   "execution_count": 4,
   "id": "4a40f44a-4ad8-4be3-bb4f-cd97bf354b32",
   "metadata": {},
   "outputs": [
    {
     "data": {
      "text/plain": [
       "[1, 4, 9, 16]"
      ]
     },
     "execution_count": 4,
     "metadata": {},
     "output_type": "execute_result"
    }
   ],
   "source": [
    "def square_list(numbers):\n",
    "    squares= map(lambda x: x**2, numbers) #squaring the numbers present in the list\n",
    "    return list(squares) #returning the squares of the number where the function was called\n",
    "\n",
    "square_list([1, 2, 3, 4])"
   ]
  },
  {
   "cell_type": "markdown",
   "id": "afa7e2d7-4f26-4a74-a2e7-50802c18ca37",
   "metadata": {},
   "source": [
    "**Question 5: FILTER AND LAMBDAS:\n",
    "Write a function that filters out all odd numbers from a list using filter and a lambda function.**"
   ]
  },
  {
   "cell_type": "code",
   "execution_count": 5,
   "id": "2440d141-3df1-4162-a773-f0cd2d2a380d",
   "metadata": {},
   "outputs": [
    {
     "data": {
      "text/plain": [
       "[2, 4]"
      ]
     },
     "execution_count": 5,
     "metadata": {},
     "output_type": "execute_result"
    }
   ],
   "source": [
    "#creating a function that takes list as an arguement\n",
    "def filter_odd_numbers(numbers):\n",
    "    odd_numbers = filter(lambda x: x%2 == 0, numbers) #checking whether the number in numbers are divisible by 2\n",
    "    return list(odd_numbers)\n",
    "\n",
    "filter_odd_numbers([1,2,3,4,5])"
   ]
  },
  {
   "cell_type": "markdown",
   "id": "c7d4c043-a8ba-4eef-9eeb-5636524c0b75",
   "metadata": {},
   "source": [
    "**Question 6: BASIC LIST COMPREHENSION:\n",
    "Create a list comprehension that takes a list of numbers and returns a list of their squares.**"
   ]
  },
  {
   "cell_type": "code",
   "execution_count": 6,
   "id": "39eeda0b-244f-41a6-a54f-39467aebe04d",
   "metadata": {},
   "outputs": [
    {
     "name": "stdout",
     "output_type": "stream",
     "text": [
      "[0, 1, 4, 9, 16]\n"
     ]
    }
   ],
   "source": [
    "squares = [x**2 for x in range(5)]\n",
    "print(squares)"
   ]
  },
  {
   "cell_type": "markdown",
   "id": "3b7dc6ed-ebf3-4dc3-b2bd-c95293b3fa59",
   "metadata": {},
   "source": [
    "**Question 7: LIST COMPREHENSION WITH CONDITION:\n",
    "Use a list comprehension to create a list of even numbers from 1 to 20.**"
   ]
  },
  {
   "cell_type": "code",
   "execution_count": 7,
   "id": "37d73e27-a8c6-4e0f-9597-c82cf0d60d39",
   "metadata": {},
   "outputs": [
    {
     "name": "stdout",
     "output_type": "stream",
     "text": [
      "[2, 4, 6, 8, 10, 12, 14, 16, 18, 20]\n"
     ]
    }
   ],
   "source": [
    "evenNumbers = [x for x in range(1,21) if x%2 == 0]\n",
    "print(list(evenNumbers))"
   ]
  },
  {
   "cell_type": "markdown",
   "id": "d4f69be6-208d-4f88-b55e-2b603cd628be",
   "metadata": {},
   "source": [
    "**Question 8: USING OS AND TIME MODULES:\n",
    "Write a function file_operations that creates a directory named \"test_folder\" using os.makedirs(). Then, pause the execution for 3 seconds using time.sleep(), and finally, delete the directory using os.rmdir().**"
   ]
  },
  {
   "cell_type": "code",
   "execution_count": 8,
   "id": "4bd04d41-96d6-492c-8d26-8deb0577d7bb",
   "metadata": {},
   "outputs": [],
   "source": [
    "#importing time and os modules\n",
    "import os\n",
    "import time\n",
    "\n",
    "#creating non parametrized function, file_operations\n",
    "def file_operations():\n",
    "    \n",
    "    #creating a new directory\n",
    "    os.makedirs(\"test_folder\") #cretaed a directory named as test_folder\n",
    "    \n",
    "    time.sleep(3) #using sleep function from time module to stop the execution for 3 sec\n",
    "    \n",
    "    #removing a directory\n",
    "    os.rmdir(\"test_folder\")\n",
    "    \n",
    "file_operations()"
   ]
  },
  {
   "cell_type": "markdown",
   "id": "2d7fd3a2-fc75-4bee-a31b-7f759a5352c9",
   "metadata": {},
   "source": [
    "**Question 9: IMPORTING SPECIFIC FUNCTIONS:\n",
    "Write a Python script that imports only sleep from the time module and renames it to pause. Use it to pause execution for 2 seconds and print \"Paused execution...\".**"
   ]
  },
  {
   "cell_type": "code",
   "execution_count": 9,
   "id": "413d2621-e221-4a7d-9d65-bbe2c7f6cd79",
   "metadata": {},
   "outputs": [
    {
     "name": "stdout",
     "output_type": "stream",
     "text": [
      "Paused execution...\n"
     ]
    }
   ],
   "source": [
    "#importing the function, sleep from time module and rename as pause\n",
    "from time import sleep as pause \n",
    "pause(2) #pauses the execution for 2 sec\n",
    "print(\"Paused execution...\")"
   ]
  },
  {
   "cell_type": "markdown",
   "id": "02520568-d989-435f-9789-ba977824ea62",
   "metadata": {},
   "source": [
    "***TASK 10: RECURSIVE FUNCTION WITH *ARGS and KWARGS (Flattening a List):\n",
    "Write a recursive function flatten_list that can flatten a nested list of any depth using *args and **kwargs.*******\n",
    "\n"
   ]
  },
  {
   "cell_type": "markdown",
   "id": "39d63b9a-e151-4459-8574-7b164ff4a992",
   "metadata": {},
   "source": [
    "*Explanation:\n",
    "Flattening a list means converting a nested list into a single-level list. If the list contains sub-lists, we recursively traverse them and extract their elements to form one flat list.*"
   ]
  },
  {
   "cell_type": "code",
   "execution_count": 10,
   "id": "90d4057f-64e3-4aaf-8179-2ed80f7a0477",
   "metadata": {},
   "outputs": [
    {
     "name": "stdout",
     "output_type": "stream",
     "text": [
      "[1, 2, 3, 4, 5, 6]\n",
      "[1, 2, 3, 4, 5]\n"
     ]
    }
   ],
   "source": [
    "#creating a function that converts nested list into simple list\n",
    "def flatten_list(*args, **kwargs):\n",
    "    #uses *args to handle any number of arguments\n",
    "    flatten = []#creating an empty list\n",
    "    \n",
    "    for item in args:\n",
    "        if isinstance(item, list): #cheking whether each element is a list or a simple number\n",
    "            flatten.extend(flatten_list(*item, *kwargs))\n",
    "            \n",
    "        else:\n",
    "            flatten.append(item) #directly adding the element in the list if its not a list\n",
    "            \n",
    "    return flatten\n",
    "\n",
    "print(flatten_list([1, [2, 3], [[4, 5], 6]]))\n",
    "print(flatten_list([[1, 2], [3, [4, [5]]]]))\n"
   ]
  },
  {
   "cell_type": "markdown",
   "id": "1fb71f49-c850-4252-a29f-2610bed32c22",
   "metadata": {},
   "source": []
  }
 ],
 "metadata": {
  "kernelspec": {
   "display_name": "Python 3 (ipykernel)",
   "language": "python",
   "name": "python3"
  },
  "language_info": {
   "codemirror_mode": {
    "name": "ipython",
    "version": 3
   },
   "file_extension": ".py",
   "mimetype": "text/x-python",
   "name": "python",
   "nbconvert_exporter": "python",
   "pygments_lexer": "ipython3",
   "version": "3.12.4"
  }
 },
 "nbformat": 4,
 "nbformat_minor": 5
}
