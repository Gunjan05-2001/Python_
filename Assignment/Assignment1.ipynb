{
 "cells": [
  {
   "cell_type": "markdown",
   "id": "4410f7c3-043e-49a3-8df4-9197a1041a68",
   "metadata": {},
   "source": [
    "***PYTHON ASSIGNMENT 1***"
   ]
  },
  {
   "cell_type": "markdown",
   "id": "45000500-9446-4390-a345-69a481bc9c2b",
   "metadata": {},
   "source": [
    "**Part 1** **Introduction To Python**"
   ]
  },
  {
   "cell_type": "markdown",
   "id": "d83e1d6d-e033-42ba-bb2e-57bb42be8119",
   "metadata": {},
   "source": [
    "*Question 1*"
   ]
  },
  {
   "cell_type": "code",
   "execution_count": 2,
   "id": "1b00b6d8-03e5-4174-b0c1-912fe4a2e376",
   "metadata": {},
   "outputs": [
    {
     "name": "stdout",
     "output_type": "stream",
     "text": [
      "Name:Gunjan\n",
      "Course Name:MCA\n",
      "Python Version:3.12.4 (tags/v3.12.4:8e8a4ba, Jun  6 2024, 19:30:16) [MSC v.1940 64 bit (AMD64)]\n"
     ]
    }
   ],
   "source": [
    "import sys\n",
    "\n",
    "# Define the details\n",
    "name = \"Gunjan\"\n",
    "coursename = \"MCA\"\n",
    "pythonversion = sys.version\n",
    "\n",
    "# Print the details\n",
    "print(f\"Name:{name}\")\n",
    "print(f\"Course Name:{coursename}\")\n",
    "print(f\"Python Version:{pythonversion}\")"
   ]
  },
  {
   "cell_type": "markdown",
   "id": "58f5c137-59ce-483f-a415-a539ea20c03a",
   "metadata": {},
   "source": [
    "*Question 2*"
   ]
  },
  {
   "cell_type": "code",
   "execution_count": 3,
   "id": "114e737a-8aa8-403e-8a4d-e7ba725d60bf",
   "metadata": {},
   "outputs": [
    {
     "name": "stdout",
     "output_type": "stream",
     "text": [
      "Hello , Python world!\n"
     ]
    }
   ],
   "source": [
    "a=\"Hello , Python world!\"\n",
    "print(a)"
   ]
  },
  {
   "cell_type": "markdown",
   "id": "8d7fdc8e-7dde-4865-b753-0fee43083166",
   "metadata": {},
   "source": [
    "![label](./picc.jfif)"
   ]
  },
  {
   "cell_type": "markdown",
   "id": "24070e9a-9125-4851-85bf-2883861524a2",
   "metadata": {},
   "source": [
    "***PART 2*** **Basic Python Syntax**"
   ]
  },
  {
   "cell_type": "markdown",
   "id": "2923cd0b-4955-4871-ac9b-677adc63dec3",
   "metadata": {},
   "source": [
    "*Question 1*"
   ]
  },
  {
   "cell_type": "code",
   "execution_count": 5,
   "id": "4fd5647f-225c-4897-9d30-86effee7a738",
   "metadata": {},
   "outputs": [
    {
     "name": "stdin",
     "output_type": "stream",
     "text": [
      "Input your First Name :  Gunjan\n",
      "Input your Last Name :  Gyamlani\n"
     ]
    },
    {
     "name": "stdout",
     "output_type": "stream",
     "text": [
      "inalmayG najnuG\n"
     ]
    }
   ],
   "source": [
    "# taking the input from the user for first name and store it in the 'fname' variable\n",
    "first_name = input(\"Input your First Name : \")\n",
    "\n",
    "#  takinh input for last name and store it in the 'lname' variable\n",
    "last_name = input(\"Input your Last Name : \")\n",
    "\n",
    "# Display a message with the last name followed by the first name\n",
    "full_name =first_name + \" \" + last_name\n",
    "print(full_name[ : :-1])"
   ]
  },
  {
   "cell_type": "markdown",
   "id": "981f07af-f12e-4f6d-bad0-bb729b037624",
   "metadata": {},
   "source": [
    "*Question 2*"
   ]
  },
  {
   "cell_type": "code",
   "execution_count": 6,
   "id": "a75d2cbf-4980-4fa3-b6bb-7208474be5ad",
   "metadata": {},
   "outputs": [
    {
     "name": "stdout",
     "output_type": "stream",
     "text": [
      "Data type of num_string after Type Casting: <class 'int'> 12\n",
      "Data type of num_string after Type Casting: <class 'float'> 12.0\n",
      "Data type of num_string after Type Casting: <class 'complex'> (12+0j)\n"
     ]
    }
   ],
   "source": [
    "num_string = \"12\"\n",
    "\n",
    "num_string1 = int(num_string)\n",
    "num_string2=float(num_string)\n",
    "num_string3=complex(num_string)\n",
    "\n",
    "print(\"Data type of num_string after Type Casting:\",type(num_string1) , num_string1)\n",
    "\n",
    "print(\"Data type of num_string after Type Casting:\",type(num_string2) , num_string2)\n",
    "\n",
    "print(\"Data type of num_string after Type Casting:\",type(num_string3), num_string3)"
   ]
  },
  {
   "cell_type": "markdown",
   "id": "08ac25b4-81be-4605-a3a2-85521bf9a36f",
   "metadata": {},
   "source": [
    "*Question 3*"
   ]
  },
  {
   "cell_type": "code",
   "execution_count": 7,
   "id": "d801968d-f891-4e38-ade3-bcea190c84b1",
   "metadata": {},
   "outputs": [
    {
     "name": "stdin",
     "output_type": "stream",
     "text": [
      "Enter length=  5\n",
      "Enter width=  6\n"
     ]
    },
    {
     "name": "stdout",
     "output_type": "stream",
     "text": [
      "Rectangle area =  30\n"
     ]
    }
   ],
   "source": [
    "#taking input in length variable \n",
    "length=int(input(\"Enter length= \"))\n",
    "\n",
    "#taking input in breadth variable\n",
    "breadth=int(input(\"Enter width= \"))\n",
    "\n",
    "area=length*breadth\n",
    "print(\"Rectangle area = \",area)"
   ]
  },
  {
   "cell_type": "markdown",
   "id": "782f542c-4109-4a85-9011-14d54e446592",
   "metadata": {},
   "source": [
    "*Question 4*"
   ]
  },
  {
   "cell_type": "code",
   "execution_count": 8,
   "id": "cfa8fc57-dea7-4f1f-a765-206d24219f2f",
   "metadata": {},
   "outputs": [
    {
     "name": "stdout",
     "output_type": "stream",
     "text": [
      "The area of the rectangle is: 30.00\n"
     ]
    }
   ],
   "source": [
    "# Display the result using the print function with two decimal places\n",
    "print(\"The area of the rectangle is: {:.2f}\".format(area))"
   ]
  },
  {
   "cell_type": "markdown",
   "id": "f25e3ef5-c08e-4ac9-b225-b391847d7a83",
   "metadata": {},
   "source": [
    "*Question 5*"
   ]
  },
  {
   "cell_type": "code",
   "execution_count": 9,
   "id": "3192c680-0c4e-4727-95f7-c9abe824dde5",
   "metadata": {},
   "outputs": [
    {
     "name": "stdin",
     "output_type": "stream",
     "text": [
      "Enter the first number:  5\n",
      "Enter the second number:  10\n",
      "Enter the third number:  22\n"
     ]
    },
    {
     "name": "stdout",
     "output_type": "stream",
     "text": [
      "The average of the three numbers is: 12.33\n"
     ]
    }
   ],
   "source": [
    "# Prompt the user to enter three numbers\n",
    "num1 = float(input(\"Enter the first number: \"))\n",
    "num2 = float(input(\"Enter the second number: \"))\n",
    "num3 = float(input(\"Enter the third number: \"))\n",
    "\n",
    "# Calculate the average\n",
    "average = (num1 + num2 + num3) / 3\n",
    "\n",
    "# Display the result using the % formatting method\n",
    "print(\"The average of the three numbers is: %.2f\" % average)"
   ]
  },
  {
   "cell_type": "markdown",
   "id": "a5d778fc-ed42-425f-9443-5f75ad2e75fe",
   "metadata": {},
   "source": [
    "***Part 3*** **Language Components**"
   ]
  },
  {
   "cell_type": "markdown",
   "id": "bac13716-ae38-4908-b377-63a318d7a8c1",
   "metadata": {},
   "source": [
    "*Question 1*"
   ]
  },
  {
   "cell_type": "code",
   "execution_count": 11,
   "id": "b2bb8541-b942-4f37-a65c-46360e380af6",
   "metadata": {},
   "outputs": [
    {
     "name": "stdin",
     "output_type": "stream",
     "text": [
      "Enter a number (or type 'exit' to quit):  5\n"
     ]
    },
    {
     "name": "stdout",
     "output_type": "stream",
     "text": [
      "The number is positive.\n"
     ]
    },
    {
     "name": "stdin",
     "output_type": "stream",
     "text": [
      "Enter a number (or type 'exit' to quit):  -1\n"
     ]
    },
    {
     "name": "stdout",
     "output_type": "stream",
     "text": [
      "The number is negative.\n"
     ]
    },
    {
     "name": "stdin",
     "output_type": "stream",
     "text": [
      "Enter a number (or type 'exit' to quit):  0\n"
     ]
    },
    {
     "name": "stdout",
     "output_type": "stream",
     "text": [
      "The number is zero.\n"
     ]
    },
    {
     "name": "stdin",
     "output_type": "stream",
     "text": [
      "Enter a number (or type 'exit' to quit):  exit\n"
     ]
    }
   ],
   "source": [
    "while True:\n",
    "    user_input = input(\"Enter a number (or type 'exit' to quit): \")\n",
    "\n",
    "    # Check if the user wants to exit\n",
    "    if user_input.lower() == 'exit':\n",
    "        break\n",
    "\n",
    "    # Convert input to a number\n",
    "    try:\n",
    "        number = float(user_input)\n",
    "        # Determine if the number is positive, negative, or zero\n",
    "        if number > 0:\n",
    "            print(\"The number is positive.\")\n",
    "        elif number < 0:\n",
    "            print(\"The number is negative.\")\n",
    "        else:\n",
    "            print(\"The number is zero.\")\n",
    "    except ValueError:\n",
    "        print(\"Please enter a valid number or 'exit' to quit.\")\n",
    "    continue  # Prompt for a new number if input is not 'exit'"
   ]
  },
  {
   "cell_type": "markdown",
   "id": "bccdcf84-d4b9-4049-bab0-5a108e5fd894",
   "metadata": {},
   "source": [
    "*Question 2*"
   ]
  },
  {
   "cell_type": "code",
   "execution_count": 12,
   "id": "ae4beff0-b407-4d72-9d0a-593880f00cd6",
   "metadata": {},
   "outputs": [
    {
     "name": "stdin",
     "output_type": "stream",
     "text": [
      "Enter the first number:  5\n",
      "Enter the second number:  22\n"
     ]
    },
    {
     "name": "stdout",
     "output_type": "stream",
     "text": [
      "One number is even and the other is odd.\n"
     ]
    }
   ],
   "source": [
    "# Input two numbers from the user\n",
    "first_number = int(input(\"Enter the first number: \"))\n",
    "second_number = int(input(\"Enter the second number: \"))\n",
    "\n",
    "# Check whether both numbers are even, odd, or one of each using relational and logical operator\n",
    "if first_number % 2 == 0 and second_number % 2 == 0:\n",
    "    print(\"Both numbers are even.\")\n",
    "elif first_number % 2 != 0 and second_number % 2 != 0:\n",
    "    print(\"Both numbers are odd.\")\n",
    "else:\n",
    "    print(\"One number is even and the other is odd.\")"
   ]
  },
  {
   "cell_type": "markdown",
   "id": "b536eb79-e533-466e-8fe3-349e8b8827e4",
   "metadata": {},
   "source": [
    "*Question 3*"
   ]
  },
  {
   "cell_type": "code",
   "execution_count": 13,
   "id": "7c4c35cd-d606-4f5b-b7b3-ad059d6a58d0",
   "metadata": {},
   "outputs": [
    {
     "name": "stdin",
     "output_type": "stream",
     "text": [
      "Enter an integer:  22\n"
     ]
    },
    {
     "name": "stdout",
     "output_type": "stream",
     "text": [
      "Binary: 10110\n",
      "Octal: 13\n",
      "Hexadecimal: 16\n"
     ]
    }
   ],
   "source": [
    "# Function to convert a number to binary, octal, and hexadecimal using bitwise operations\n",
    "def convert_number(num):\n",
    "    # Binary conversion\n",
    "    binary = ''\n",
    "    for i in range(num.bit_length(), -1, -1):\n",
    "        binary += '1' if (num >> i) & 1 else '0'\n",
    "    binary = binary.lstrip('0') or '0'  # Remove leading zeros\n",
    "\n",
    "    # Octal conversion\n",
    "    octal = ''\n",
    "    for i in range(num.bit_length() - 1, -1, -3):  # Group by 3 bits for octal\n",
    "        octal_digit = (num >> i) & 7  # Extract 3 bits at a time\n",
    "        octal += str(octal_digit)\n",
    "    octal = octal.lstrip('0') or '0'  # Remove leading zeros\n",
    "\n",
    "    # Hexadecimal conversion\n",
    "    hex_digits = \"0123456789ABCDEF\"\n",
    "    hexadecimal = ''\n",
    "    for i in range(num.bit_length() - 1, -1, -4):  # Group by 4 bits for hexadecimal\n",
    "        hex_digit = (num >> i) & 15  # Extract 4 bits at a time\n",
    "        hexadecimal += hex_digits[hex_digit]\n",
    "    hexadecimal = hexadecimal.lstrip('0') or '0'  # Remove leading zeros\n",
    "\n",
    "    print(f\"Binary: {binary}\")\n",
    "    print(f\"Octal: {octal}\")\n",
    "    print(f\"Hexadecimal: {hexadecimal}\")\n",
    "\n",
    "# Take integer input from the user\n",
    "number = int(input(\"Enter an integer: \"))\n",
    "convert_number(number)"
   ]
  },
  {
   "cell_type": "code",
   "execution_count": null,
   "id": "5763ca4c-154a-4914-9ccc-a30dcace2282",
   "metadata": {},
   "outputs": [],
   "source": []
  }
 ],
 "metadata": {
  "kernelspec": {
   "display_name": "Python 3 (ipykernel)",
   "language": "python",
   "name": "python3"
  },
  "language_info": {
   "codemirror_mode": {
    "name": "ipython",
    "version": 3
   },
   "file_extension": ".py",
   "mimetype": "text/x-python",
   "name": "python",
   "nbconvert_exporter": "python",
   "pygments_lexer": "ipython3",
   "version": "3.12.4"
  }
 },
 "nbformat": 4,
 "nbformat_minor": 5
}
