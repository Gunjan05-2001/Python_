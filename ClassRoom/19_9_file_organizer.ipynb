{
 "cells": [
  {
   "cell_type": "code",
   "execution_count": 1,
   "id": "ec9042fd-6685-4469-9d73-4a668892bc8d",
   "metadata": {},
   "outputs": [
    {
     "name": "stdin",
     "output_type": "stream",
     "text": [
      "Enter the directory path to organize:  C:\\Users\\admin\\Desktop\\PythonMain\\Python_\\ClassRoom\\Organizer\n"
     ]
    },
    {
     "name": "stdout",
     "output_type": "stream",
     "text": [
      "Files in C:\\Users\\admin\\Desktop\\PythonMain\\Python_\\ClassRoom\\Organizer have been organized into categories.\n"
     ]
    }
   ],
   "source": [
    "import shutil\n",
    "import os\n",
    "\n",
    "\n",
    "# Function to organize files into categories\n",
    "def organize_files(directory):\n",
    "    # Define file categories and corresponding extensions\n",
    "    file_categories = {\n",
    "        'Documents': ['.pdf', '.docx', '.txt', '.xlsx'],\n",
    "        'Images': ['.jpg', '.jpeg', '.png', '.gif'],\n",
    "        'Videos': ['.mp4', '.mkv', '.avi'],\n",
    "        'Audio': ['.mp3', '.wav'],\n",
    "        'Others': []  # Any file that doesn't match the above categories\n",
    "    }\n",
    "\n",
    "    # Create subdirectories for each category\n",
    "    for category in file_categories.keys():\n",
    "        category_path = os.path.join(directory, category)\n",
    "        if not os.path.exists(category_path):\n",
    "            os.makedirs(category_path)\n",
    "    type(category_path)\n",
    "    # Move files into the appropriate category folders\n",
    "    for filename in os.listdir(directory):\n",
    "        file_path = os.path.join(directory, filename)\n",
    "\n",
    "        # Skip directories\n",
    "        if os.path.isdir(file_path):\n",
    "            continue\n",
    "\n",
    "        # Identify the file extension\n",
    "        file_extension = os.path.splitext(filename)[1].lower()\n",
    "\n",
    "        # Move file to the correct category\n",
    "        moved = False\n",
    "        for category, extensions in file_categories.items():\n",
    "            if file_extension in extensions:\n",
    "                destination_folder = os.path.join(directory, category)\n",
    "                shutil.move(file_path, os.path.join(destination_folder, filename))\n",
    "                moved = True\n",
    "                break\n",
    "\n",
    "        # If file does not fit into any category, move to 'Others'\n",
    "        if not moved:\n",
    "            others_folder = os.path.join(directory, 'Others')\n",
    "            shutil.move(file_path, os.path.join(others_folder, filename))\n",
    "\n",
    "    print(f\"Files in {directory} have been organized into categories.\")\n",
    "\n",
    "# Take directory input from user\n",
    "user_directory = input(\"Enter the directory path to organize: \")\n",
    "organize_files(user_directory)\n",
    "\n"
   ]
  },
  {
   "cell_type": "code",
   "execution_count": null,
   "id": "b3c239b4-61cd-4de5-b00f-f864a2f6def4",
   "metadata": {},
   "outputs": [],
   "source": []
  }
 ],
 "metadata": {
  "kernelspec": {
   "display_name": "Python 3 (ipykernel)",
   "language": "python",
   "name": "python3"
  },
  "language_info": {
   "codemirror_mode": {
    "name": "ipython",
    "version": 3
   },
   "file_extension": ".py",
   "mimetype": "text/x-python",
   "name": "python",
   "nbconvert_exporter": "python",
   "pygments_lexer": "ipython3",
   "version": "3.12.4"
  }
 },
 "nbformat": 4,
 "nbformat_minor": 5
}
