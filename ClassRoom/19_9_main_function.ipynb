{
 "cells": [
  {
   "cell_type": "code",
   "execution_count": 3,
   "id": "f15290b0-f20e-4476-a8ff-5987e3b43793",
   "metadata": {},
   "outputs": [
    {
     "ename": "ModuleNotFoundError",
     "evalue": "No module named 'file_organizer'",
     "output_type": "error",
     "traceback": [
      "\u001b[1;31m---------------------------------------------------------------------------\u001b[0m",
      "\u001b[1;31mModuleNotFoundError\u001b[0m                       Traceback (most recent call last)",
      "Cell \u001b[1;32mIn[3], line 3\u001b[0m\n\u001b[0;32m      1\u001b[0m \u001b[38;5;28;01mimport\u001b[39;00m \u001b[38;5;21;01mtkinter\u001b[39;00m \u001b[38;5;28;01mas\u001b[39;00m \u001b[38;5;21;01mtk\u001b[39;00m\n\u001b[0;32m      2\u001b[0m \u001b[38;5;28;01mimport\u001b[39;00m \u001b[38;5;21;01mos\u001b[39;00m\n\u001b[1;32m----> 3\u001b[0m \u001b[38;5;28;01mfrom\u001b[39;00m \u001b[38;5;21;01mfile_organizer\u001b[39;00m \u001b[38;5;28;01mimport\u001b[39;00m organize_files \u001b[38;5;28;01mas\u001b[39;00m of\n\u001b[0;32m      5\u001b[0m \u001b[38;5;66;03m#create the main window\u001b[39;00m\n\u001b[0;32m      6\u001b[0m root\u001b[38;5;241m=\u001b[39m tk\u001b[38;5;241m.\u001b[39mTk()\n",
      "\u001b[1;31mModuleNotFoundError\u001b[0m: No module named 'file_organizer'"
     ]
    }
   ],
   "source": [
    "import tkinter as tk\n",
    "import os\n",
    "from file_organizer import organize_files as of\n",
    "\n",
    "#create the main window\n",
    "root= tk.Tk()\n",
    "root.title(\"File Organizer\")#\n",
    "root.geometry(\"400x250\") #set the window sizeFunction to be called when the button is clip\n",
    "\n",
    "def submit_function():\n",
    "    address = entry.get()  #get text from the entry box\n",
    "    print(\"address is:\\t\", address) #label for entry\n",
    "    if os.path.exists(address): \n",
    "        organize_files(address)\n",
    "\n",
    "label = tk.Label(root,text=\"Enter Dictionary address:\")\n",
    "label.pack(pady= 20) #add padding around the labelEntry (input block)where user can type text\n",
    "\n",
    "entry = tk.Entry(root,width=30)\n",
    "entry.pack(pady=5) #Button to trigger the function show_input\n",
    "\n",
    "button=tk.Button(root,text=\"Submit\",command=submit_function)\n",
    "#command with arguments\n",
    "#button= tk.Button(root, text=\"submit\", command=lambda inputArgs:function(inputArgs))\n",
    "button.pack(pady=10) #start the GUI event loop\n",
    "root.mainloop()"
   ]
  },
  {
   "cell_type": "code",
   "execution_count": null,
   "id": "c2826989-e2b4-42a1-ab20-ed4d41a64e08",
   "metadata": {},
   "outputs": [],
   "source": []
  }
 ],
 "metadata": {
  "kernelspec": {
   "display_name": "Python 3 (ipykernel)",
   "language": "python",
   "name": "python3"
  },
  "language_info": {
   "codemirror_mode": {
    "name": "ipython",
    "version": 3
   },
   "file_extension": ".py",
   "mimetype": "text/x-python",
   "name": "python",
   "nbconvert_exporter": "python",
   "pygments_lexer": "ipython3",
   "version": "3.12.4"
  }
 },
 "nbformat": 4,
 "nbformat_minor": 5
}
