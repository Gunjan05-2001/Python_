{
 "cells": [
  {
   "cell_type": "markdown",
   "id": "ca2f20ab-85e7-474a-81d2-472d5ff06a26",
   "metadata": {},
   "source": [
    "### write a function that take dir address from user and organize file format into following categories ###\n",
    " |folder | extesion |\n",
    " |---|---|\n",
    " |video|mpg,mkv|\n",
    " |Image|jpg,png|\n",
    " |Audio|mp3,oog|\n",
    " |Docs|docx,txt,pdf|\n",
    " |Mics|other|\n",
    "\n",
    "```python\n",
    " import os\n",
    "  # to create dir\n",
    "  dirname=\"Image\"\n",
    "  make_dir_cmd=f\"md {dirName}\"\n",
    "  os.system(make_dir_cmd)\n",
    "\n",
    "  os.mkdir(\"dirName\")\n",
    "\n",
    "  # to move file\n",
    "\n",
    "  relative_source_file_path=\".\\demo.txt\"\n",
    "  dirName=\"Image\"\n",
    "  relative_destination_file_path=f\".\\{dirName}\\demo.txt\""
   ]
  },
  {
   "cell_type": "code",
   "execution_count": 3,
   "id": "8a19524d-10af-48e0-bdd8-9d92b29825f8",
   "metadata": {},
   "outputs": [],
   "source": [
    "import os\n",
    "\n",
    "address =r\"C:\\Users\\admin\\Desktop\\PythonMain\\Python_\\ClassRoom\\Organizer\"\n",
    "os.chdir(address)\n",
    "\n",
    "list_of_files=os.listdir()\n",
    "\n",
    "dirs_to_create=\"Video,Audio,Image,Docs,Misc\".split(\",\")\n",
    "\n",
    "dirs_to_create\n",
    "\n",
    "for dir1 in dirs_to_create:\n",
    "    os.mkdir(dir1)"
   ]
  },
  {
   "cell_type": "code",
   "execution_count": 4,
   "id": "8344ff76-d4c5-4b3f-a441-007109a8cbcc",
   "metadata": {},
   "outputs": [
    {
     "name": "stdout",
     "output_type": "stream",
     "text": [
      "mp3\n",
      "oog\n",
      "docx\n",
      "png\n",
      "pdf\n",
      "txt\n",
      "png\n",
      "jpg\n",
      "jpg\n",
      "png\n",
      "misc1\n",
      "misc2\n",
      "misc3\n",
      "mp4\n",
      "mkv\n"
     ]
    }
   ],
   "source": [
    "for f in list_of_files:\n",
    "    ext=f.split(\".\")[-1].lower()\n",
    "    if ext==\"jpg\" or ext==\"png\":\n",
    "        cmd = f\"move \\\"{f}\\\" \\\"Image\\\\{f}\\\"\"\n",
    "        os.system(cmd)\n",
    "        print(ext)\n",
    "    elif ext==\"mp4\" or ext==\"mkv\":\n",
    "        cmd = f\"move \\\"{f}\\\" \\\"Video\\\\{f}\\\"\"\n",
    "        os.system(cmd)\n",
    "        print(ext)\n",
    "    elif ext==\"mp3\" or ext==\"oog\":\n",
    "        cmd = f\"move \\\"{f}\\\" \\\"Audio\\\\{f}\\\"\"\n",
    "        os.system(cmd)\n",
    "        print(ext)\n",
    "    elif ext==\"docx\" or ext==\"txt\" or ext==\"pdf\":\n",
    "        cmd = f\"move \\\"{f}\\\" \\\"Docs\\\\{f}\\\"\"\n",
    "        os.system(cmd)\n",
    "        print(ext)\n",
    "    else:\n",
    "        cmd = f\"move \\\"{f}\\\" \\\"Misc\\\\{f}\\\"\"\n",
    "        os.system(cmd)\n",
    "        print(ext)"
   ]
  },
  {
   "cell_type": "code",
   "execution_count": null,
   "id": "bfd39afe-8ceb-4726-a69b-210326d31dd4",
   "metadata": {},
   "outputs": [],
   "source": []
  }
 ],
 "metadata": {
  "kernelspec": {
   "display_name": "Python 3 (ipykernel)",
   "language": "python",
   "name": "python3"
  },
  "language_info": {
   "codemirror_mode": {
    "name": "ipython",
    "version": 3
   },
   "file_extension": ".py",
   "mimetype": "text/x-python",
   "name": "python",
   "nbconvert_exporter": "python",
   "pygments_lexer": "ipython3",
   "version": "3.12.4"
  }
 },
 "nbformat": 4,
 "nbformat_minor": 5
}
